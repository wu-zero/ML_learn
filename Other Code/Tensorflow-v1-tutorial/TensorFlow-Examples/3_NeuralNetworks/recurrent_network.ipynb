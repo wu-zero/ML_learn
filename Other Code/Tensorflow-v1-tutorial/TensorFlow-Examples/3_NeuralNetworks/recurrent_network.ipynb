{
  "cells": [
    {
      "cell_type": "code",
      "execution_count": 1,
      "metadata": {
        "collapsed": true,
        "pycharm": {
          "is_executing": false
        }
      },
      "outputs": [
        {
          "name": "stdout",
          "text": [
            "WARNING:tensorflow:From \u003cipython-input-1-1f101059589f\u003e:7: read_data_sets (from tensorflow.contrib.learn.python.learn.datasets.mnist) is deprecated and will be removed in a future version.\nInstructions for updating:\nPlease use alternatives such as official/mnist/dataset.py from tensorflow/models.\n",
            "WARNING:tensorflow:From /home/wyw/anaconda3/envs/tf1.13-gpu/lib/python3.6/site-packages/tensorflow/contrib/learn/python/learn/datasets/mnist.py:260: maybe_download (from tensorflow.contrib.learn.python.learn.datasets.base) is deprecated and will be removed in a future version.\nInstructions for updating:\nPlease write your own downloading logic.\n",
            "WARNING:tensorflow:From /home/wyw/anaconda3/envs/tf1.13-gpu/lib/python3.6/site-packages/tensorflow/contrib/learn/python/learn/datasets/mnist.py:262: extract_images (from tensorflow.contrib.learn.python.learn.datasets.mnist) is deprecated and will be removed in a future version.\nInstructions for updating:\nPlease use tf.data to implement this functionality.\n",
            "Extracting /tmp/data/train-images-idx3-ubyte.gz\nWARNING:tensorflow:From /home/wyw/anaconda3/envs/tf1.13-gpu/lib/python3.6/site-packages/tensorflow/contrib/learn/python/learn/datasets/mnist.py:267: extract_labels (from tensorflow.contrib.learn.python.learn.datasets.mnist) is deprecated and will be removed in a future version.\nInstructions for updating:\nPlease use tf.data to implement this functionality.\n",
            "Extracting /tmp/data/train-labels-idx1-ubyte.gz\nWARNING:tensorflow:From /home/wyw/anaconda3/envs/tf1.13-gpu/lib/python3.6/site-packages/tensorflow/contrib/learn/python/learn/datasets/mnist.py:110: dense_to_one_hot (from tensorflow.contrib.learn.python.learn.datasets.mnist) is deprecated and will be removed in a future version.\nInstructions for updating:\nPlease use tf.one_hot on tensors.\n",
            "Extracting /tmp/data/t10k-images-idx3-ubyte.gz\n",
            "Extracting /tmp/data/t10k-labels-idx1-ubyte.gz\nWARNING:tensorflow:From /home/wyw/anaconda3/envs/tf1.13-gpu/lib/python3.6/site-packages/tensorflow/contrib/learn/python/learn/datasets/mnist.py:290: DataSet.__init__ (from tensorflow.contrib.learn.python.learn.datasets.mnist) is deprecated and will be removed in a future version.\nInstructions for updating:\nPlease use alternatives such as official/mnist/dataset.py from tensorflow/models.\n"
          ],
          "output_type": "stream"
        }
      ],
      "source": "from __future__ import print_function\n\nimport tensorflow as tf\nfrom tensorflow.contrib import rnn\n\nfrom tensorflow.examples.tutorials.mnist import input_data\nmnist \u003d input_data.read_data_sets(\"/tmp/data/\", one_hot\u003dTrue)"
    },
    {
      "cell_type": "code",
      "execution_count": 2,
      "outputs": [],
      "source": "learning_rate \u003d 0.001\ntraining_steps \u003d 10000\nbatch_size \u003d 128\ndisplay_step \u003d 200\n\nnum_input \u003d 28\ntimesteps \u003d 28\nnum_hidden \u003d 128\nnum_classes \u003d 10\n\nX \u003d tf.placeholder(\"float\", [None, timesteps, num_input])\nY \u003d tf.placeholder(\"float\", [None, num_classes])\n",
      "metadata": {
        "pycharm": {
          "metadata": false,
          "name": "#%%\n",
          "is_executing": false
        }
      }
    },
    {
      "cell_type": "code",
      "execution_count": 3,
      "outputs": [
        {
          "name": "stdout",
          "text": [
            "WARNING:tensorflow:From /home/wyw/anaconda3/envs/tf1.13-gpu/lib/python3.6/site-packages/tensorflow/python/framework/op_def_library.py:263: colocate_with (from tensorflow.python.framework.ops) is deprecated and will be removed in a future version.\nInstructions for updating:\nColocations handled automatically by placer.\n"
          ],
          "output_type": "stream"
        }
      ],
      "source": "weights \u003d {\n    \u0027out\u0027:tf.Variable(tf.random_normal([num_hidden, num_classes]))\n}\nbiases \u003d {\n    \u0027out\u0027:tf.Variable(tf.random_normal([num_classes]))\n}\n",
      "metadata": {
        "pycharm": {
          "metadata": false,
          "name": "#%%\n",
          "is_executing": false
        }
      }
    },
    {
      "cell_type": "code",
      "execution_count": 4,
      "outputs": [],
      "source": "def RNN(x, weights, biases):\n    x \u003d tf.unstack(x, timesteps, 1)\n    lstm_cell \u003d rnn.BasicLSTMCell(num_hidden, forget_bias\u003d1.0)\n    \n    outputs, states \u003d rnn.static_rnn(lstm_cell, x, dtype\u003dtf.float32)\n    return tf.matmul(outputs[-1], weights[\u0027out\u0027]) + biases[\u0027out\u0027]",
      "metadata": {
        "pycharm": {
          "metadata": false,
          "name": "#%%\n",
          "is_executing": false
        }
      }
    },
    {
      "cell_type": "code",
      "execution_count": null,
      "outputs": [],
      "source": "\n",
      "metadata": {
        "pycharm": {
          "metadata": false,
          "name": "#%%\n"
        }
      }
    }
  ],
  "metadata": {
    "language_info": {
      "codemirror_mode": {
        "name": "ipython",
        "version": 2
      },
      "file_extension": ".py",
      "mimetype": "text/x-python",
      "name": "python",
      "nbconvert_exporter": "python",
      "pygments_lexer": "ipython2",
      "version": "2.7.6"
    },
    "kernelspec": {
      "name": "python3",
      "language": "python",
      "display_name": "Python 3"
    }
  },
  "nbformat": 4,
  "nbformat_minor": 0
}