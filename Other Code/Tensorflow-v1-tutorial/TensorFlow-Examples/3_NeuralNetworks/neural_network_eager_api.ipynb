{
  "cells": [
    {
      "cell_type": "code",
      "execution_count": 1,
      "metadata": {
        "collapsed": true,
        "pycharm": {
          "is_executing": false
        }
      },
      "outputs": [],
      "source": "from __future__ import print_function\nimport tensorflow as tf"
    },
    {
      "cell_type": "code",
      "execution_count": 2,
      "outputs": [
        {
          "name": "stdout",
          "text": [
            "\nWARNING: The TensorFlow contrib module will not be included in TensorFlow 2.0.\nFor more information, please see:\n  * https://github.com/tensorflow/community/blob/master/rfcs/20180907-contrib-sunset.md\n  * https://github.com/tensorflow/addons\nIf you depend on functionality not listed there, please file an issue.\n\n"
          ],
          "output_type": "stream"
        }
      ],
      "source": "tf.enable_eager_execution()\ntfe \u003d tf.contrib.eager",
      "metadata": {
        "pycharm": {
          "metadata": false,
          "name": "#%%\n",
          "is_executing": false
        }
      }
    },
    {
      "cell_type": "code",
      "execution_count": 3,
      "outputs": [
        {
          "name": "stdout",
          "text": [
            "WARNING:tensorflow:From \u003cipython-input-3-7bbc5a8aac89\u003e:2: read_data_sets (from tensorflow.contrib.learn.python.learn.datasets.mnist) is deprecated and will be removed in a future version.\nInstructions for updating:\nPlease use alternatives such as official/mnist/dataset.py from tensorflow/models.\n",
            "WARNING:tensorflow:From /home/wyw/anaconda3/envs/tf1.13-gpu/lib/python3.6/site-packages/tensorflow/contrib/learn/python/learn/datasets/mnist.py:260: maybe_download (from tensorflow.contrib.learn.python.learn.datasets.base) is deprecated and will be removed in a future version.\nInstructions for updating:\nPlease write your own downloading logic.\n",
            "WARNING:tensorflow:From /home/wyw/anaconda3/envs/tf1.13-gpu/lib/python3.6/site-packages/tensorflow/contrib/learn/python/learn/datasets/mnist.py:262: extract_images (from tensorflow.contrib.learn.python.learn.datasets.mnist) is deprecated and will be removed in a future version.\nInstructions for updating:\nPlease use tf.data to implement this functionality.\n",
            "Extracting /tmp/data/train-images-idx3-ubyte.gz\nWARNING:tensorflow:From /home/wyw/anaconda3/envs/tf1.13-gpu/lib/python3.6/site-packages/tensorflow/contrib/learn/python/learn/datasets/mnist.py:267: extract_labels (from tensorflow.contrib.learn.python.learn.datasets.mnist) is deprecated and will be removed in a future version.\nInstructions for updating:\nPlease use tf.data to implement this functionality.\n",
            "Extracting /tmp/data/train-labels-idx1-ubyte.gz\nExtracting /tmp/data/t10k-images-idx3-ubyte.gz\nExtracting /tmp/data/t10k-labels-idx1-ubyte.gz\n",
            "WARNING:tensorflow:From /home/wyw/anaconda3/envs/tf1.13-gpu/lib/python3.6/site-packages/tensorflow/contrib/learn/python/learn/datasets/mnist.py:290: DataSet.__init__ (from tensorflow.contrib.learn.python.learn.datasets.mnist) is deprecated and will be removed in a future version.\nInstructions for updating:\nPlease use alternatives such as official/mnist/dataset.py from tensorflow/models.\n"
          ],
          "output_type": "stream"
        }
      ],
      "source": "from tensorflow.examples.tutorials.mnist import input_data\nmnist \u003d input_data.read_data_sets(\"/tmp/data/\",one_hot\u003dFalse)",
      "metadata": {
        "pycharm": {
          "metadata": false,
          "name": "#%%\n",
          "is_executing": false
        }
      }
    },
    {
      "cell_type": "code",
      "execution_count": 4,
      "outputs": [],
      "source": "learning_rate \u003d 0.001\nnum_steps \u003d 1000\nbatch_size \u003d 128\ndisplay_step \u003d 100\n\nn_hidden_1 \u003d 256\nn_hidden_2 \u003d 256\nnum_input \u003d 784\nnum_classes \u003d 10",
      "metadata": {
        "pycharm": {
          "metadata": false,
          "name": "#%%\n",
          "is_executing": false
        }
      }
    },
    {
      "cell_type": "code",
      "execution_count": 5,
      "outputs": [
        {
          "name": "stdout",
          "text": [
            "WARNING:tensorflow:From /home/wyw/anaconda3/envs/tf1.13-gpu/lib/python3.6/site-packages/tensorflow/python/data/ops/iterator_ops.py:532: colocate_with (from tensorflow.python.framework.ops) is deprecated and will be removed in a future version.\nInstructions for updating:\nColocations handled automatically by placer.\n"
          ],
          "output_type": "stream"
        }
      ],
      "source": "dataset \u003d tf.data.Dataset.from_tensor_slices(\n    (mnist.train.images, mnist.train.labels)\n)\ndataset \u003d dataset.repeat().batch(batch_size).prefetch(batch_size)\ndataset_iter \u003d tfe.Iterator(dataset)",
      "metadata": {
        "pycharm": {
          "metadata": false,
          "name": "#%%\n",
          "is_executing": false
        }
      }
    },
    {
      "cell_type": "code",
      "execution_count": 6,
      "outputs": [
        {
          "name": "stdout",
          "text": [
            "WARNING:tensorflow:From \u003cipython-input-6-cd011b021353\u003e:3: Network.__init__ (from tensorflow.contrib.eager.python.network) is deprecated and will be removed in a future version.\nInstructions for updating:\nPlease inherit from `tf.keras.Model`, and see its documentation for details. `tf.keras.Model` should be a drop-in replacement for `tfe.Network` in most cases, but note that `track_layer` is no longer necessary or supported. Instead, `Layer` instances are tracked on attribute assignment (see the section of `tf.keras.Model`\u0027s documentation on subclassing). Since the output of `track_layer` is often assigned to an attribute anyway, most code can be ported by simply removing the `track_layer` calls.\n\n`tf.keras.Model` works with all TensorFlow `Layer` instances, including those from `tf.layers`, but switching to the `tf.keras.layers` versions along with the migration to `tf.keras.Model` is recommended, since it will preserve variable names. Feel free to import it with an alias to avoid excess typing :).\n",
            "WARNING:tensorflow:** tfe.Network is deprecated and will be removed in a future version.\n\nPlease inherit from `tf.keras.Model`, and see its documentation for details. `tf.keras.Model` should be a drop-in replacement for `tfe.Network` in most cases, but note that `track_layer` is no longer necessary or supported. Instead, `Layer` instances are tracked on attribute assignment (see the section of `tf.keras.Model`\u0027s documentation on subclassing). Since the output of `track_layer` is often assigned to an attribute anyway, most code can be ported by simply removing the `track_layer` calls.\n\n`tf.keras.Model` works with all TensorFlow `Layer` instances, including those from `tf.layers`, but switching to the `tf.keras.layers` versions along with the migration to `tf.keras.Model` is recommended, since it will preserve variable names. Feel free to import it with an alias to avoid excess typing :).\n"
          ],
          "output_type": "stream"
        }
      ],
      "source": "class NeuralNet(tfe.Network):\n    def __init__(self):\n        super(NeuralNet, self).__init__()\n        self.layer1 \u003d self.track_layer(\n            tf.layers.Dense(n_hidden_1, activation\u003dtf.nn.relu)\n        )\n        self.layer2 \u003d self.track_layer(\n            tf.layers.Dense(n_hidden_2, activation\u003dtf.nn.relu)\n        )\n        self.out_layer \u003d self.track_layer(tf.layers.Dense(num_classes))\n        \n    def call(self, x):\n        x \u003d self.layer1(x)\n        x \u003d self.layer2(x)\n        return self.out_layer(x)\n    \nneural_net \u003d NeuralNet()",
      "metadata": {
        "pycharm": {
          "metadata": false,
          "name": "#%%\n",
          "is_executing": false
        }
      }
    },
    {
      "cell_type": "code",
      "execution_count": 7,
      "outputs": [],
      "source": "def loss_fn(inference_fn, inputs, labels):\n    return tf.reduce_mean(tf.nn.sparse_softmax_cross_entropy_with_logits(\n        logits\u003dinference_fn(inputs),labels\u003dlabels\n    ))\n\ndef accuracy_fn(inference_fn, inputs, labels):\n    prediction \u003d tf.nn.softmax(inference_fn(inputs))\n    correct_pred \u003d tf.equal(tf.argmax(prediction,1),labels)\n    return tf.reduce_mean(tf.cast(correct_pred, tf.float32))\n\noptimizer \u003d tf.train.AdamOptimizer(learning_rate\u003dlearning_rate)\n\ngrad \u003d tfe.implicit_gradients(loss_fn)\n#https://stackoverflow.com/questions/50098971/whats-the-difference-between-gradienttape-implicit-gradients",
      "metadata": {
        "pycharm": {
          "metadata": false,
          "name": "#%%\n",
          "is_executing": false
        }
      }
    },
    {
      "cell_type": "code",
      "execution_count": 9,
      "outputs": [
        {
          "name": "stdout",
          "text": [
            "Initial loss\u003d 0.084444366\nStep: 0001  loss\u003d 0.084444366  accuracy\u003d 0.9766\n",
            "Step: 0100  loss\u003d 0.075120471  accuracy\u003d 0.9680\n",
            "Step: 0200  loss\u003d 0.074455529  accuracy\u003d 0.9777\n",
            "Step: 0300  loss\u003d 0.059998527  accuracy\u003d 0.9813\n",
            "Step: 0400  loss\u003d 0.055281587  accuracy\u003d 0.9834\n",
            "Step: 0500  loss\u003d 0.051664278  accuracy\u003d 0.9848\n",
            "Step: 0600  loss\u003d 0.051021352  accuracy\u003d 0.9852\n",
            "Step: 0700  loss\u003d 0.044645227  accuracy\u003d 0.9861\n",
            "Step: 0800  loss\u003d 0.040892255  accuracy\u003d 0.9875\n",
            "Step: 0900  loss\u003d 0.036057156  accuracy\u003d 0.9891\n",
            "Step: 1000  loss\u003d 0.035394944  accuracy\u003d 0.9889\n"
          ],
          "output_type": "stream"
        }
      ],
      "source": "average_loss \u003d 0.\naverage_acc \u003d 0.\n\nfor step in range(num_steps):\n    d \u003d dataset_iter.next()\n    x_batch \u003d d[0]\n    y_batch \u003d tf.cast(d[1], dtype\u003dtf.int64)\n    \n    batch_loss \u003d loss_fn(neural_net, x_batch, y_batch)\n    average_loss +\u003d batch_loss\n    \n    batch_accuracy \u003d accuracy_fn(neural_net, x_batch, y_batch)\n    average_acc +\u003d batch_accuracy\n\n    if step \u003d\u003d 0:\n        print(\"Initial loss\u003d {:.9f}\".format(average_loss))\n\n    optimizer.apply_gradients(grad(neural_net, x_batch, y_batch))\n\n    if (step + 1) % display_step \u003d\u003d 0 or step \u003d\u003d 0:\n        if step \u003e 0:\n            average_loss /\u003d display_step\n            average_acc /\u003d display_step\n        print(\"Step:\", \u0027%04d\u0027 % (step + 1), \" loss\u003d\",\n              \"{:.9f}\".format(average_loss), \" accuracy\u003d\",\n              \"{:.4f}\".format(average_acc))\n        average_loss \u003d 0.\n        average_acc \u003d 0.",
      "metadata": {
        "pycharm": {
          "metadata": false,
          "name": "#%%\n",
          "is_executing": false
        }
      }
    },
    {
      "cell_type": "code",
      "execution_count": null,
      "outputs": [],
      "source": "\n",
      "metadata": {
        "pycharm": {
          "metadata": false,
          "name": "#%%\n"
        }
      }
    }
  ],
  "metadata": {
    "language_info": {
      "codemirror_mode": {
        "name": "ipython",
        "version": 2
      },
      "file_extension": ".py",
      "mimetype": "text/x-python",
      "name": "python",
      "nbconvert_exporter": "python",
      "pygments_lexer": "ipython2",
      "version": "2.7.6"
    },
    "kernelspec": {
      "name": "python3",
      "language": "python",
      "display_name": "Python 3"
    }
  },
  "nbformat": 4,
  "nbformat_minor": 0
}