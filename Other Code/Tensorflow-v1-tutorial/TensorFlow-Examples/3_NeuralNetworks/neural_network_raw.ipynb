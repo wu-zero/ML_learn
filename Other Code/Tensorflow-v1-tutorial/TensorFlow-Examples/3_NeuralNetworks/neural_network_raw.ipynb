{
  "nbformat": 4,
  "nbformat_minor": 0,
  "metadata": {
    "colab": {
      "name": "Untitled0.ipynb",
      "version": "0.3.2",
      "provenance": []
    },
    "kernelspec": {
      "name": "python3",
      "language": "python",
      "display_name": "Python 3"
    },
    "accelerator": "GPU"
  },
  "cells": [
    {
      "metadata": {
        "id": "30Pr4alxpod5",
        "colab_type": "code",
        "colab": {
          "base_uri": "https://localhost:8080/",
          "height": 530
        },
        "outputId": "54278bc6-7d20-4088-db95-d727732d8af3",
        "pycharm": {
          "is_executing": false
        }
      },
      "cell_type": "code",
      "source": "from __future__ import print_function\nfrom tensorflow.examples.tutorials.mnist import input_data\nmnist \u003d input_data.read_data_sets(\"/tmp/data/\", one_hot\u003dTrue)\n\nimport tensorflow as tf",
      "execution_count": 4,
      "outputs": [
        {
          "name": "stdout",
          "text": [
            "Extracting /tmp/data/train-images-idx3-ubyte.gz\nExtracting /tmp/data/train-labels-idx1-ubyte.gz\nExtracting /tmp/data/t10k-images-idx3-ubyte.gz\n",
            "Extracting /tmp/data/t10k-labels-idx1-ubyte.gz\n"
          ],
          "output_type": "stream"
        }
      ]
    },
    {
      "metadata": {
        "id": "5YXvUDTjqfLu",
        "colab_type": "code",
        "colab": {},
        "pycharm": {
          "is_executing": false
        }
      },
      "cell_type": "code",
      "source": [
        "learning_rate \u003d 0.1\n",
        "num_steps \u003d 500\n",
        "batch_size \u003d 128\n",
        "display_step \u003d 100\n",
        "\n",
        "n_hidden_1 \u003d 256\n",
        "n_hidden_2 \u003d 256\n",
        "num_input \u003d 784\n",
        "num_classes \u003d 10\n",
        "\n",
        "X \u003d tf.placeholder(\"float\", [None, num_input])\n",
        "Y \u003d tf.placeholder(\"float\", [None, num_classes])"
      ],
      "execution_count": 5,
      "outputs": []
    },
    {
      "metadata": {
        "id": "5OtEjwr6s0k1",
        "colab_type": "code",
        "colab": {
          "base_uri": "https://localhost:8080/",
          "height": 88
        },
        "outputId": "45566e82-db7e-4535-ad6f-00d34f0ad9b7",
        "pycharm": {
          "is_executing": false
        }
      },
      "cell_type": "code",
      "source": [
        "weights \u003d {\n",
        "    \u0027h1\u0027: tf.Variable(tf.random_normal([num_input, n_hidden_1])),\n",
        "    \u0027h2\u0027: tf.Variable(tf.random_normal([n_hidden_1, n_hidden_2])),\n",
        "    \u0027out\u0027: tf.Variable(tf.random_normal([n_hidden_2, num_classes]))\n",
        "}\n",
        "biases \u003d {\n",
        "    \u0027b1\u0027: tf.Variable(tf.random_normal([n_hidden_1])),\n",
        "    \u0027b2\u0027: tf.Variable(tf.random_normal([n_hidden_2])),\n",
        "    \u0027out\u0027: tf.Variable(tf.random_normal([num_classes]))\n",
        "}"
      ],
      "execution_count": 6,
      "outputs": [
        {
          "name": "stdout",
          "text": [
            "WARNING:tensorflow:From /home/wyw/anaconda3/envs/tf1.13-gpu/lib/python3.6/site-packages/tensorflow/python/framework/op_def_library.py:263: colocate_with (from tensorflow.python.framework.ops) is deprecated and will be removed in a future version.\nInstructions for updating:\nColocations handled automatically by placer.\n"
          ],
          "output_type": "stream"
        }
      ]
    },
    {
      "metadata": {
        "id": "poFsPknss0xF",
        "colab_type": "code",
        "colab": {},
        "pycharm": {
          "is_executing": false
        }
      },
      "cell_type": "code",
      "source": "# 模型\ndef neural_net(x):\n    # 全连接 256神经元\n    layer_1 \u003d tf.add(tf.matmul(x, weights[\u0027h1\u0027]), biases[\u0027b1\u0027])\n    # 全连接 256神经元\n    layer_2 \u003d tf.add(tf.matmul(layer_1, weights[\u0027h2\u0027]), biases[\u0027b2\u0027])\n    # 全连接 10输出\n    out_layer \u003d tf.matmul(layer_2, weights[\u0027out\u0027]) + biases[\u0027out\u0027]\n    return out_layer",
      "execution_count": 7,
      "outputs": []
    },
    {
      "metadata": {
        "id": "5LeleXC_s05Y",
        "colab_type": "code",
        "colab": {
          "base_uri": "https://localhost:8080/",
          "height": 173
        },
        "outputId": "17be5636-19d5-4fb0-e9e1-2e86fa47e90a",
        "pycharm": {
          "is_executing": false
        }
      },
      "cell_type": "code",
      "source": "# 构建模型\nlogits \u003d neural_net(X)\n\n# 定义损失函数和优化器\nloss_op \u003d tf.reduce_mean(tf.nn.softmax_cross_entropy_with_logits(\n    logits\u003dlogits, labels\u003dY))\noptimizer \u003d tf.train.AdamOptimizer(learning_rate\u003dlearning_rate)\ntrain_op \u003d optimizer.minimize(loss_op)\n\n# 评估模型\ncorrect_pred \u003d tf.equal(tf.argmax(logits, 1), tf.argmax(Y, 1))\naccuracy \u003d tf.reduce_mean(tf.cast(correct_pred, tf.float32))\n\n# 初始化模型\ninit \u003d tf.global_variables_initializer()",
      "execution_count": 8,
      "outputs": [
        {
          "name": "stdout",
          "text": [
            "WARNING:tensorflow:From \u003cipython-input-8-41b79346af64\u003e:6: softmax_cross_entropy_with_logits (from tensorflow.python.ops.nn_ops) is deprecated and will be removed in a future version.\nInstructions for updating:\n\nFuture major versions of TensorFlow will allow gradients to flow\ninto the labels input on backprop by default.\n\nSee `tf.nn.softmax_cross_entropy_with_logits_v2`.\n\n"
          ],
          "output_type": "stream"
        }
      ]
    },
    {
      "metadata": {
        "id": "LzEAq1RCtGS-",
        "colab_type": "code",
        "colab": {
          "base_uri": "https://localhost:8080/",
          "height": 153
        },
        "outputId": "b07a668c-d68d-44ec-ce8c-1f7727ca52d2",
        "pycharm": {
          "is_executing": false
        }
      },
      "cell_type": "code",
      "source": "# 开始训练\n\nwith tf.Session() as sess:\n\n    # 运行初始化\n    sess.run(init)\n\n    for step in range(1, num_steps+1):\n        batch_x, batch_y \u003d mnist.train.next_batch(batch_size)\n        # 运行优化\n        sess.run(train_op, feed_dict\u003d{X: batch_x, Y: batch_y})\n        if step % display_step \u003d\u003d 0 or step \u003d\u003d 1:\n            # 计算loss和accuracy\n            loss, acc \u003d sess.run([loss_op, accuracy], feed_dict\u003d{X: batch_x,\n                                                                 Y: batch_y})\n            print(\"Step \" + str(step) + \", Minibatch Loss\u003d \" + \\\n                  \"{:.4f}\".format(loss) + \", Training Accuracy\u003d \" + \\\n                  \"{:.3f}\".format(acc))\n\n    print(\"Optimization Finished!\")\n\n    # 计算测试集上的准确率\n    print(\"Testing Accuracy:\", \\\n        sess.run(accuracy, feed_dict\u003d{X: mnist.test.images,Y: mnist.test.labels}))",
      "execution_count": 10,
      "outputs": [
        {
          "name": "stdout",
          "text": [
            "Step 1, Minibatch Loss\u003d 11958.9961, Training Accuracy\u003d 0.391\nStep 100, Minibatch Loss\u003d 243.8483, Training Accuracy\u003d 0.914\n",
            "Step 200, Minibatch Loss\u003d 200.9813, Training Accuracy\u003d 0.812\nStep 300, Minibatch Loss\u003d 118.3685, Training Accuracy\u003d 0.852\n",
            "Step 400, Minibatch Loss\u003d 49.1439, Training Accuracy\u003d 0.867\nStep 500, Minibatch Loss\u003d 55.0067, Training Accuracy\u003d 0.867\nOptimization Finished!\nTesting Accuracy: 0.8557\n"
          ],
          "output_type": "stream"
        }
      ]
    }
  ]
}