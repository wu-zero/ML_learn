{
  "cells": [
    {
      "cell_type": "code",
      "execution_count": 2,
      "metadata": {
        "collapsed": true,
        "pycharm": {
          "is_executing": false
        }
      },
      "outputs": [
        {
          "name": "stdout",
          "text": [
            "Extracting /tmp/data/train-images-idx3-ubyte.gz\nExtracting /tmp/data/train-labels-idx1-ubyte.gz\nExtracting /tmp/data/t10k-images-idx3-ubyte.gz\nExtracting ",
            "/tmp/data/t10k-labels-idx1-ubyte.gz\n"
          ],
          "output_type": "stream"
        }
      ],
      "source": "from __future__ import print_function\n\nfrom tensorflow.examples.tutorials.mnist import input_data\nmnist \u003d input_data.read_data_sets(\"/tmp/data/\",one_hot\u003dFalse)\n\nimport tensorflow as tf\nimport matplotlib.pyplot as plt\nimport numpy as np"
    },
    {
      "cell_type": "code",
      "execution_count": 9,
      "outputs": [],
      "source": "learning_rate \u003d 0.1\nnum_steps \u003d 500\nbatch_size \u003d 128\ndisplay_step \u003d 100\n\nn_hidden_1 \u003d 256\nn_hidden_2 \u003d 256\nnum_input \u003d 784\nnum_classes \u003d 10\n#%\n\nfrom tensorflow_estimator import estimator\n# from tensorflow_estimator.python.estimator.inputs.inputs import numpy_input_fn\ninput_fn \u003d estimator.inputs.numpy_input_fn(\n    x\u003d{\u0027images\u0027: mnist.train.images}, y\u003dmnist.train.labels,\n    batch_size\u003dbatch_size, num_epochs\u003dNone, shuffle\u003dTrue)",
      "metadata": {
        "pycharm": {
          "metadata": false,
          "name": "#%%\n",
          "is_executing": false
        }
      }
    },
    {
      "cell_type": "code",
      "execution_count": 10,
      "outputs": [],
      "source": "def neural_net(x_dict):\n    x \u003d x_dict[\u0027images\u0027]\n    layer_1 \u003d tf.layers.dense(x, n_hidden_1)\n    layer_2 \u003d tf.layers.dense(layer_1, n_hidden_2)\n    out_layer \u003d tf.layers.dense(layer_2, num_classes)\n    return out_layer",
      "metadata": {
        "pycharm": {
          "metadata": false,
          "name": "#%%\n",
          "is_executing": false
        }
      }
    },
    {
      "cell_type": "code",
      "execution_count": 12,
      "outputs": [],
      "source": "def model_fn(features, labels, mode):\n    logits \u003d neural_net(features)\n    \n    pred_classes \u003d tf.argmax(logits, axis\u003d1)\n    pred_probas \u003d tf.nn.softmax(logits)\n    \n    if mode \u003d\u003d estimator.ModeKeys.PREDICT:\n        return estimator.EstimatorSpec(mode, predictions\u003dpred_classes)\n    \n    loss_op \u003d tf.reduce_mean(tf.nn.sparse_softmax_cross_entropy_with_logits(\n        logits\u003dlogits,labels\u003dtf.cast(labels, dtype\u003dtf.int32)))\n    optimizer \u003d tf.train.GradientDescentOptimizer(learning_rate\u003dlearning_rate)\n    train_op \u003d optimizer.minimize(loss_op, global_step\u003dtf.train.get_global_step())\n    \n    acc_op \u003d tf.metrics.accuracy(labels\u003dlabels, predictions\u003dpred_classes)\n    \n    estim_specs \u003d estimator.EstimatorSpec(\n        mode\u003dmode,\n        predictions\u003dpred_classes,\n        loss\u003dloss_op,\n        train_op\u003dtrain_op,\n        eval_metric_ops\u003d{\u0027accuracy\u0027: acc_op}\n    )\n    return estim_specs     ",
      "metadata": {
        "pycharm": {
          "metadata": false,
          "name": "#%%\n",
          "is_executing": false
        }
      }
    },
    {
      "cell_type": "code",
      "execution_count": 13,
      "outputs": [
        {
          "name": "stdout",
          "text": [
            "INFO:tensorflow:Using default config.\n",
            "WARNING:tensorflow:Using temporary folder as model directory: /tmp/tmpaa5f2lld\n",
            "INFO:tensorflow:Using config: {\u0027_model_dir\u0027: \u0027/tmp/tmpaa5f2lld\u0027, \u0027_tf_random_seed\u0027: None, \u0027_save_summary_steps\u0027: 100, \u0027_save_checkpoints_steps\u0027: None, \u0027_save_checkpoints_secs\u0027: 600, \u0027_session_config\u0027: allow_soft_placement: true\ngraph_options {\n  rewrite_options {\n    meta_optimizer_iterations: ONE\n  }\n}\n, \u0027_keep_checkpoint_max\u0027: 5, \u0027_keep_checkpoint_every_n_hours\u0027: 10000, \u0027_log_step_count_steps\u0027: 100, \u0027_train_distribute\u0027: None, \u0027_device_fn\u0027: None, \u0027_protocol\u0027: None, \u0027_eval_distribute\u0027: None, \u0027_experimental_distribute\u0027: None, \u0027_service\u0027: None, \u0027_cluster_spec\u0027: \u003ctensorflow.python.training.server_lib.ClusterSpec object at 0x7fc5d5667ba8\u003e, \u0027_task_type\u0027: \u0027worker\u0027, \u0027_task_id\u0027: 0, \u0027_global_id_in_cluster\u0027: 0, \u0027_master\u0027: \u0027\u0027, \u0027_evaluation_master\u0027: \u0027\u0027, \u0027_is_chief\u0027: True, \u0027_num_ps_replicas\u0027: 0, \u0027_num_worker_replicas\u0027: 1}\n"
          ],
          "output_type": "stream"
        }
      ],
      "source": "model \u003d estimator.Estimator(model_fn)",
      "metadata": {
        "pycharm": {
          "metadata": false,
          "name": "#%%\n",
          "is_executing": false
        }
      }
    },
    {
      "cell_type": "code",
      "execution_count": 14,
      "outputs": [
        {
          "name": "stdout",
          "text": [
            "WARNING:tensorflow:From /home/wyw/anaconda3/envs/tf1.13-gpu/lib/python3.6/site-packages/tensorflow/python/framework/op_def_library.py:263: colocate_with (from tensorflow.python.framework.ops) is deprecated and will be removed in a future version.\nInstructions for updating:\nColocations handled automatically by placer.\n",
            "WARNING:tensorflow:From /home/wyw/anaconda3/envs/tf1.13-gpu/lib/python3.6/site-packages/tensorflow_estimator/python/estimator/inputs/queues/feeding_queue_runner.py:62: QueueRunner.__init__ (from tensorflow.python.training.queue_runner_impl) is deprecated and will be removed in a future version.\nInstructions for updating:\nTo construct input pipelines, use the `tf.data` module.\n",
            "WARNING:tensorflow:From /home/wyw/anaconda3/envs/tf1.13-gpu/lib/python3.6/site-packages/tensorflow_estimator/python/estimator/inputs/queues/feeding_functions.py:500: add_queue_runner (from tensorflow.python.training.queue_runner_impl) is deprecated and will be removed in a future version.\nInstructions for updating:\nTo construct input pipelines, use the `tf.data` module.\n",
            "INFO:tensorflow:Calling model_fn.\n",
            "WARNING:tensorflow:From \u003cipython-input-10-c1ad477db0ed\u003e:3: dense (from tensorflow.python.layers.core) is deprecated and will be removed in a future version.\nInstructions for updating:\nUse keras.layers.dense instead.\n",
            "WARNING:tensorflow:From /home/wyw/anaconda3/envs/tf1.13-gpu/lib/python3.6/site-packages/tensorflow/python/ops/metrics_impl.py:455: to_float (from tensorflow.python.ops.math_ops) is deprecated and will be removed in a future version.\nInstructions for updating:\nUse tf.cast instead.\n",
            "INFO:tensorflow:Done calling model_fn.\n",
            "INFO:tensorflow:Create CheckpointSaverHook.\n",
            "INFO:tensorflow:Graph was finalized.\n",
            "INFO:tensorflow:Running local_init_op.\n",
            "INFO:tensorflow:Done running local_init_op.\n",
            "WARNING:tensorflow:From /home/wyw/anaconda3/envs/tf1.13-gpu/lib/python3.6/site-packages/tensorflow/python/training/monitored_session.py:809: start_queue_runners (from tensorflow.python.training.queue_runner_impl) is deprecated and will be removed in a future version.\nInstructions for updating:\nTo construct input pipelines, use the `tf.data` module.\n",
            "INFO:tensorflow:Saving checkpoints for 0 into /tmp/tmpaa5f2lld/model.ckpt.\n",
            "INFO:tensorflow:loss \u003d 2.42572, step \u003d 0\n",
            "INFO:tensorflow:global_step/sec: 57.6539\n",
            "INFO:tensorflow:loss \u003d 0.408721, step \u003d 100 (1.783 sec)\n",
            "INFO:tensorflow:global_step/sec: 400.143\n",
            "INFO:tensorflow:loss \u003d 0.328696, step \u003d 200 (0.190 sec)\n",
            "INFO:tensorflow:global_step/sec: 1144.49\n",
            "INFO:tensorflow:loss \u003d 0.314889, step \u003d 300 (0.087 sec)\n",
            "INFO:tensorflow:global_step/sec: 1142.03\n",
            "INFO:tensorflow:loss \u003d 0.204464, step \u003d 400 (0.088 sec)\n",
            "INFO:tensorflow:Saving checkpoints for 500 into /tmp/tmpaa5f2lld/model.ckpt.\n",
            "INFO:tensorflow:Loss for final step: 0.234878.\n"
          ],
          "output_type": "stream"
        },
        {
          "data": {
            "text/plain": "\u003ctensorflow_estimator.python.estimator.estimator.Estimator at 0x7fc5c01ec470\u003e"
          },
          "metadata": {},
          "output_type": "execute_result",
          "execution_count": 14
        }
      ],
      "source": "model.train(input_fn, steps\u003dnum_steps)",
      "metadata": {
        "pycharm": {
          "metadata": false,
          "name": "#%%\n",
          "is_executing": false
        }
      }
    },
    {
      "cell_type": "code",
      "execution_count": 15,
      "outputs": [
        {
          "name": "stdout",
          "text": [
            "INFO:tensorflow:Calling model_fn.\n",
            "INFO:tensorflow:Done calling model_fn.\n",
            "INFO:tensorflow:Starting evaluation at 2019-04-26T13:24:31Z\n",
            "INFO:tensorflow:Graph was finalized.\n",
            "WARNING:tensorflow:From /home/wyw/anaconda3/envs/tf1.13-gpu/lib/python3.6/site-packages/tensorflow/python/training/saver.py:1266: checkpoint_exists (from tensorflow.python.training.checkpoint_management) is deprecated and will be removed in a future version.\nInstructions for updating:\nUse standard file APIs to check for files with this prefix.\n",
            "INFO:tensorflow:Restoring parameters from /tmp/tmpaa5f2lld/model.ckpt-500\n",
            "INFO:tensorflow:Running local_init_op.\n",
            "INFO:tensorflow:Done running local_init_op.\n",
            "INFO:tensorflow:Finished evaluation at 2019-04-26-13:24:35\n",
            "INFO:tensorflow:Saving dict for global step 500: accuracy \u003d 0.9153, global_step \u003d 500, loss \u003d 0.295344\n",
            "INFO:tensorflow:Saving \u0027checkpoint_path\u0027 summary for global step 500: /tmp/tmpaa5f2lld/model.ckpt-500\n"
          ],
          "output_type": "stream"
        },
        {
          "data": {
            "text/plain": "{\u0027accuracy\u0027: 0.91530001, \u0027global_step\u0027: 500, \u0027loss\u0027: 0.29534397}"
          },
          "metadata": {},
          "output_type": "execute_result",
          "execution_count": 15
        }
      ],
      "source": "input_fn \u003d estimator.inputs.numpy_input_fn(\n    x\u003d{\u0027images\u0027: mnist.test.images}, y\u003dmnist.test.labels,\n    batch_size\u003dbatch_size,shuffle\u003dFalse    \n)\nmodel.evaluate(input_fn)",
      "metadata": {
        "pycharm": {
          "metadata": false,
          "name": "#%%\n",
          "is_executing": false
        }
      }
    },
    {
      "cell_type": "code",
      "execution_count": 16,
      "outputs": [
        {
          "name": "stdout",
          "text": [
            "INFO:tensorflow:Calling model_fn.\n",
            "INFO:tensorflow:Done calling model_fn.\n",
            "INFO:tensorflow:Graph was finalized.\n",
            "INFO:tensorflow:Restoring parameters from /tmp/tmpaa5f2lld/model.ckpt-500\n",
            "INFO:tensorflow:Running local_init_op.\n",
            "INFO:tensorflow:Done running local_init_op.\n",
            "Model prediction: 7\n",
            "Model prediction: 2\n",
            "Model prediction: 1\n",
            "Model prediction: 0\n"
          ],
          "output_type": "stream"
        },
        {
          "data": {
            "text/plain": "\u003cmatplotlib.figure.Figure at 0x7fc5bef69eb8\u003e",
            "image/png": "iVBORw0KGgoAAAANSUhEUgAAAP8AAAD8CAYAAAC4nHJkAAAABHNCSVQICAgIfAhkiAAAAAlwSFlz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\nH0iK8ANJEX4gKcIPJEX4gaQIP5DUXwFGhz+pWT5yuQAAAABJRU5ErkJggg\u003d\u003d\n"
          },
          "metadata": {},
          "output_type": "display_data"
        },
        {
          "data": {
            "text/plain": "\u003cmatplotlib.figure.Figure at 0x7fc5a2d06c18\u003e",
            "image/png": "[encoded data removed]"
          },
          "metadata": {},
          "output_type": "display_data"
        },
        {
          "data": {
            "text/plain": "\u003cmatplotlib.figure.Figure at 0x7fc5a2c38b38\u003e",
            "image/png": "iVBORw0KGgoAAAANSUhEUgAAAP8AAAD8CAYAAAC4nHJkAAAABHNCSVQICAgIfAhkiAAAAAlwSFlz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\nSUVORK5CYII\u003d\n"
          },
          "metadata": {},
          "output_type": "display_data"
        },
        {
          "data": {
            "text/plain": "\u003cmatplotlib.figure.Figure at 0x7fc5a2b77ac8\u003e",
            "image/png": "[encoded data removed]"
          },
          "metadata": {},
          "output_type": "display_data"
        }
      ],
      "source": "n_images \u003d 4\ntest_images \u003d mnist.test.images[:n_images]\n\ninput_fn \u003d estimator.inputs.numpy_input_fn(\n    x\u003d{\u0027images\u0027:test_images}, shuffle\u003dFalse\n)\npreds \u003d list(model.predict(input_fn))\n\nfor i in range(n_images):\n    plt.imshow(np.reshape(test_images[i], [28, 28]), cmap\u003d\u0027gray\u0027)\n    plt.show()\n    print(\"Model prediction:\", preds[i])\n",
      "metadata": {
        "pycharm": {
          "metadata": false,
          "name": "#%%\n",
          "is_executing": false
        }
      }
    }
  ],
  "metadata": {
    "language_info": {
      "codemirror_mode": {
        "name": "ipython",
        "version": 2
      },
      "file_extension": ".py",
      "mimetype": "text/x-python",
      "name": "python",
      "nbconvert_exporter": "python",
      "pygments_lexer": "ipython2",
      "version": "2.7.6"
    },
    "kernelspec": {
      "name": "python3",
      "language": "python",
      "display_name": "Python 3"
    }
  },
  "nbformat": 4,
  "nbformat_minor": 0
}