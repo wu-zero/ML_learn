{
  "cells": [
    {
      "cell_type": "markdown",
      "metadata": {
        "collapsed": true,
        "pycharm": {
          "name": "#%% md\n"
        }
      },
      "source": "## 张量"
    },
    {
      "cell_type": "code",
      "execution_count": 1,
      "outputs": [],
      "source": "import torch",
      "metadata": {
        "pycharm": {
          "metadata": false,
          "name": "#%%\n",
          "is_executing": false
        }
      }
    },
    {
      "cell_type": "code",
      "execution_count": 2,
      "outputs": [
        {
          "name": "stdout",
          "text": [
            "tensor([[1., 1.],\n        [1., 1.]], requires_grad\u003dTrue)\n"
          ],
          "output_type": "stream"
        }
      ],
      "source": "x \u003d torch.ones(2, 2, requires_grad\u003dTrue)\nprint(x)",
      "metadata": {
        "pycharm": {
          "metadata": false,
          "name": "#%%\n",
          "is_executing": false
        }
      }
    },
    {
      "cell_type": "code",
      "execution_count": 3,
      "outputs": [
        {
          "name": "stdout",
          "text": [
            "tensor([[3., 3.],\n        [3., 3.]], grad_fn\u003d\u003cAddBackward0\u003e)\n"
          ],
          "output_type": "stream"
        }
      ],
      "source": "y \u003d x + 2\nprint(y)",
      "metadata": {
        "pycharm": {
          "metadata": false,
          "name": "#%%\n",
          "is_executing": false
        }
      }
    },
    {
      "cell_type": "code",
      "execution_count": 4,
      "outputs": [
        {
          "name": "stdout",
          "text": [
            "\u003cAddBackward0 object at 0x7f7f07f1bd30\u003e\n"
          ],
          "output_type": "stream"
        }
      ],
      "source": "print(y.grad_fn)",
      "metadata": {
        "pycharm": {
          "metadata": false,
          "name": "#%%\n",
          "is_executing": false
        }
      }
    },
    {
      "cell_type": "code",
      "execution_count": 5,
      "outputs": [
        {
          "name": "stdout",
          "text": [
            "tensor([[27., 27.],\n        [27., 27.]], grad_fn\u003d\u003cMulBackward0\u003e) tensor(27., grad_fn\u003d\u003cMeanBackward0\u003e)\n"
          ],
          "output_type": "stream"
        }
      ],
      "source": "z \u003d y * y * 3\nout \u003d z.mean()\nprint(z, out)",
      "metadata": {
        "pycharm": {
          "metadata": false,
          "name": "#%%\n",
          "is_executing": false
        }
      }
    },
    {
      "cell_type": "code",
      "execution_count": 6,
      "outputs": [
        {
          "name": "stdout",
          "text": [
            "False\nTrue\n\u003cSumBackward0 object at 0x7f7f07eb27b8\u003e\n"
          ],
          "output_type": "stream"
        }
      ],
      "source": "a \u003d torch.randn(2, 2)\na \u003d ((a * 3) / (a - 1))\nprint(a.requires_grad)\na.requires_grad_(True)\nprint(a.requires_grad)\nb \u003d (a * a).sum()\nprint(b.grad_fn)",
      "metadata": {
        "pycharm": {
          "metadata": false,
          "name": "#%%\n",
          "is_executing": false
        }
      }
    },
    {
      "cell_type": "markdown",
      "source": "## 梯度",
      "metadata": {
        "pycharm": {
          "metadata": false,
          "name": "#%% md\n"
        }
      }
    },
    {
      "cell_type": "code",
      "execution_count": 7,
      "outputs": [
        {
          "name": "stdout",
          "text": [
            "tensor([[4.5000, 4.5000],\n        [4.5000, 4.5000]])\n"
          ],
          "output_type": "stream"
        }
      ],
      "source": "out.backward()\nprint(x.grad)",
      "metadata": {
        "pycharm": {
          "metadata": false,
          "name": "#%%\n",
          "is_executing": false
        }
      }
    },
    {
      "cell_type": "code",
      "execution_count": 8,
      "outputs": [
        {
          "name": "stdout",
          "text": [
            "tensor([ 967.3884,  474.4514, -605.5984], grad_fn\u003d\u003cMulBackward0\u003e)\n"
          ],
          "output_type": "stream"
        }
      ],
      "source": "x \u003d torch.randn(3, requires_grad\u003dTrue)\ny \u003d x * 2\nwhile y.data.norm() \u003c 1000:\n    y \u003d y * 2\nprint(y)",
      "metadata": {
        "pycharm": {
          "metadata": false,
          "name": "#%%\n",
          "is_executing": false
        }
      }
    },
    {
      "cell_type": "code",
      "execution_count": 9,
      "outputs": [
        {
          "name": "stdout",
          "text": [
            "tensor([5.1200e+01, 5.1200e+02, 5.1200e-02])\n"
          ],
          "output_type": "stream"
        }
      ],
      "source": "v \u003d torch.tensor([0.1, 1.0, 0.0001], dtype\u003dtorch.float)\ny.backward(v)\nprint(x.grad)",
      "metadata": {
        "pycharm": {
          "metadata": false,
          "name": "#%%\n",
          "is_executing": false
        }
      }
    },
    {
      "cell_type": "code",
      "execution_count": 10,
      "outputs": [
        {
          "name": "stdout",
          "text": [
            "True\nTrue\nFalse\n"
          ],
          "output_type": "stream"
        }
      ],
      "source": "print(x.requires_grad)\nprint((x ** 2).requires_grad)\nwith torch.no_grad():\n    print((x ** 2).requires_grad)",
      "metadata": {
        "pycharm": {
          "metadata": false,
          "name": "#%%\n",
          "is_executing": false
        }
      }
    },
    {
      "cell_type": "code",
      "execution_count": null,
      "outputs": [],
      "source": "\n",
      "metadata": {
        "pycharm": {
          "metadata": false,
          "name": "#%%\n"
        }
      }
    }
  ],
  "metadata": {
    "language_info": {
      "codemirror_mode": {
        "name": "ipython",
        "version": 2
      },
      "file_extension": ".py",
      "mimetype": "text/x-python",
      "name": "python",
      "nbconvert_exporter": "python",
      "pygments_lexer": "ipython2",
      "version": "2.7.6"
    },
    "kernelspec": {
      "name": "python3",
      "language": "python",
      "display_name": "Python 3"
    }
  },
  "nbformat": 4,
  "nbformat_minor": 0
}