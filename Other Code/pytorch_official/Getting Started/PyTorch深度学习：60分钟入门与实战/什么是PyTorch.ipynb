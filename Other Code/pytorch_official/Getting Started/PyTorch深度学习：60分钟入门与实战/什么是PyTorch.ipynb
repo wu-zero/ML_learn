{
  "cells": [
    {
      "cell_type": "markdown",
      "source": "## 入门\n### 张量",
      "metadata": {
        "pycharm": {
          "metadata": false
        }
      }
    },
    {
      "cell_type": "code",
      "execution_count": 7,
      "metadata": {
        "collapsed": true,
        "pycharm": {
          "name": "#%%\n",
          "is_executing": false
        }
      },
      "outputs": [],
      "source": "import torch"
    },
    {
      "cell_type": "code",
      "execution_count": 8,
      "outputs": [
        {
          "name": "stdout",
          "text": [
            "tensor([[2.4156e+36, 4.5695e-41, 2.4156e+36],\n        [4.5695e-41, 1.3068e+34, 4.5695e-41],\n        [3.5122e+36, 4.5695e-41, 1.4013e-45],\n        [4.5695e-41, 0.0000e+00, 0.0000e+00],\n        [1.6023e+19, 4.5695e-41, 0.0000e+00]])\n"
          ],
          "output_type": "stream"
        }
      ],
      "source": "x \u003d torch.empty(5, 3)\nprint(x)",
      "metadata": {
        "pycharm": {
          "metadata": false,
          "name": "#%%\n",
          "is_executing": false
        }
      }
    },
    {
      "cell_type": "code",
      "execution_count": 9,
      "outputs": [
        {
          "name": "stdout",
          "text": [
            "tensor([[0.8931, 0.4181, 0.3714],\n        [0.3106, 0.0399, 0.0709],\n        [0.4508, 0.3512, 0.0579],\n        [0.3971, 0.2662, 0.3176],\n        [0.0681, 0.3924, 0.7676]])\n"
          ],
          "output_type": "stream"
        }
      ],
      "source": "x \u003d torch.rand(5, 3)\nprint(x)",
      "metadata": {
        "pycharm": {
          "metadata": false,
          "name": "#%%\n",
          "is_executing": false
        }
      }
    },
    {
      "cell_type": "code",
      "execution_count": 11,
      "outputs": [
        {
          "name": "stdout",
          "text": [
            "tensor([[0, 0, 0],\n        [0, 0, 0],\n        [0, 0, 0],\n        [0, 0, 0],\n        [0, 0, 0]])\n"
          ],
          "output_type": "stream"
        }
      ],
      "source": "x \u003d torch.zeros(5, 3, dtype\u003dtorch.long)\nprint(x)",
      "metadata": {
        "pycharm": {
          "metadata": false,
          "name": "#%%\n",
          "is_executing": false
        }
      }
    },
    {
      "cell_type": "code",
      "execution_count": 12,
      "outputs": [
        {
          "name": "stdout",
          "text": [
            "tensor([5.5000, 3.0000])\n"
          ],
          "output_type": "stream"
        }
      ],
      "source": "x \u003d torch.tensor([5.5, 3])\nprint(x)",
      "metadata": {
        "pycharm": {
          "metadata": false,
          "name": "#%%\n",
          "is_executing": false
        }
      }
    },
    {
      "cell_type": "code",
      "execution_count": 13,
      "outputs": [
        {
          "name": "stdout",
          "text": [
            "tensor([[1., 1., 1.],\n        [1., 1., 1.],\n        [1., 1., 1.],\n        [1., 1., 1.],\n        [1., 1., 1.]], dtype\u003dtorch.float64)\ntensor([[ 1.1555,  0.4774,  0.4219],\n        [ 0.1302,  1.0446, -0.2604],\n        [ 1.1210, -0.8085, -0.6131],\n        [ 1.2876, -0.0795,  1.5187],\n        [ 1.5708,  0.4301, -1.4819]])\n"
          ],
          "output_type": "stream"
        }
      ],
      "source": "x \u003d x.new_ones(5, 3, dtype\u003dtorch.double)\nprint(x)\nx \u003d torch.randn_like(x, dtype\u003dtorch.float)\nprint(x)",
      "metadata": {
        "pycharm": {
          "metadata": false,
          "name": "#%%\n",
          "is_executing": false
        }
      }
    },
    {
      "cell_type": "code",
      "execution_count": 14,
      "outputs": [
        {
          "name": "stdout",
          "text": [
            "torch.Size([5, 3])\n"
          ],
          "output_type": "stream"
        }
      ],
      "source": "print(x.size())",
      "metadata": {
        "pycharm": {
          "metadata": false,
          "name": "#%%\n",
          "is_executing": false
        }
      }
    },
    {
      "cell_type": "markdown",
      "source": "### 运算",
      "metadata": {
        "pycharm": {
          "metadata": false,
          "name": "#%% md\n"
        }
      }
    },
    {
      "cell_type": "code",
      "execution_count": 15,
      "outputs": [
        {
          "name": "stdout",
          "text": [
            "tensor([[ 1.8640,  0.4795,  1.3846],\n        [ 0.8731,  1.5899, -0.0630],\n        [ 1.7486, -0.1590,  0.0648],\n        [ 2.1405,  0.7954,  1.5703],\n        [ 1.8081,  0.8071, -0.4912]])\n"
          ],
          "output_type": "stream"
        }
      ],
      "source": "y \u003d torch.rand(5, 3)\nprint(x + y)",
      "metadata": {
        "pycharm": {
          "metadata": false,
          "name": "#%%\n",
          "is_executing": false
        }
      }
    },
    {
      "cell_type": "code",
      "execution_count": 16,
      "outputs": [
        {
          "name": "stdout",
          "text": [
            "tensor([[ 1.8640,  0.4795,  1.3846],\n        [ 0.8731,  1.5899, -0.0630],\n        [ 1.7486, -0.1590,  0.0648],\n        [ 2.1405,  0.7954,  1.5703],\n        [ 1.8081,  0.8071, -0.4912]])\n"
          ],
          "output_type": "stream"
        }
      ],
      "source": "print(torch.add(x,y))",
      "metadata": {
        "pycharm": {
          "metadata": false,
          "name": "#%%\n",
          "is_executing": false
        }
      }
    },
    {
      "cell_type": "code",
      "execution_count": 17,
      "outputs": [
        {
          "name": "stdout",
          "text": [
            "tensor([[ 1.8640,  0.4795,  1.3846],\n        [ 0.8731,  1.5899, -0.0630],\n        [ 1.7486, -0.1590,  0.0648],\n        [ 2.1405,  0.7954,  1.5703],\n        [ 1.8081,  0.8071, -0.4912]])\n"
          ],
          "output_type": "stream"
        }
      ],
      "source": "result \u003d torch.empty(5, 3)\ntorch.add(x, y, out\u003dresult)\nprint(result)",
      "metadata": {
        "pycharm": {
          "metadata": false,
          "name": "#%%\n",
          "is_executing": false
        }
      }
    },
    {
      "cell_type": "code",
      "execution_count": 18,
      "outputs": [
        {
          "name": "stdout",
          "text": [
            "tensor([[ 1.8640,  0.4795,  1.3846],\n        [ 0.8731,  1.5899, -0.0630],\n        [ 1.7486, -0.1590,  0.0648],\n        [ 2.1405,  0.7954,  1.5703],\n        [ 1.8081,  0.8071, -0.4912]])\n"
          ],
          "output_type": "stream"
        }
      ],
      "source": "y.add_(x)\nprint(y)",
      "metadata": {
        "pycharm": {
          "metadata": false,
          "name": "#%%\n",
          "is_executing": false
        }
      }
    },
    {
      "cell_type": "code",
      "execution_count": 19,
      "outputs": [
        {
          "name": "stdout",
          "text": [
            "tensor([ 0.4774,  1.0446, -0.8085, -0.0795,  0.4301])\n"
          ],
          "output_type": "stream"
        }
      ],
      "source": "print(x[:, 1])",
      "metadata": {
        "pycharm": {
          "metadata": false,
          "name": "#%%\n",
          "is_executing": false
        }
      }
    },
    {
      "cell_type": "code",
      "execution_count": 20,
      "outputs": [
        {
          "name": "stdout",
          "text": [
            "torch.Size([4, 4]) torch.Size([16]) torch.Size([2, 8])\n"
          ],
          "output_type": "stream"
        }
      ],
      "source": "x \u003d torch.randn(4, 4)\ny \u003d x.view(16)\nz \u003d x.view(-1, 8)\nprint(x.size(), y.size(), z.size())",
      "metadata": {
        "pycharm": {
          "metadata": false,
          "name": "#%%\n",
          "is_executing": false
        }
      }
    },
    {
      "cell_type": "code",
      "execution_count": 23,
      "outputs": [
        {
          "name": "stdout",
          "text": [
            "tensor([-1.3372])\n-1.3372260332107544\n"
          ],
          "output_type": "stream"
        }
      ],
      "source": "x \u003d torch.randn(1)\nprint(x)\nprint(x.item())",
      "metadata": {
        "pycharm": {
          "metadata": false,
          "name": "#%%\n",
          "is_executing": false
        }
      }
    },
    {
      "cell_type": "markdown",
      "source": "## Numpy桥",
      "metadata": {
        "pycharm": {
          "metadata": false,
          "name": "#%% md\n"
        }
      }
    },
    {
      "cell_type": "markdown",
      "source": "### 将torch的Tensor转化为NumPy数组",
      "metadata": {
        "pycharm": {
          "metadata": false,
          "name": "#%% md\n"
        }
      }
    },
    {
      "cell_type": "code",
      "execution_count": 24,
      "outputs": [
        {
          "name": "stdout",
          "text": [
            "tensor([1., 1., 1., 1., 1.])\n"
          ],
          "output_type": "stream"
        }
      ],
      "source": "a \u003d torch.ones(5)\nprint(a)",
      "metadata": {
        "pycharm": {
          "metadata": false,
          "name": "#%% \n",
          "is_executing": false
        }
      }
    },
    {
      "cell_type": "code",
      "execution_count": 25,
      "outputs": [
        {
          "name": "stdout",
          "text": [
            "[1. 1. 1. 1. 1.]\n"
          ],
          "output_type": "stream"
        }
      ],
      "source": "b \u003d a.numpy()\nprint(b)",
      "metadata": {
        "pycharm": {
          "metadata": false,
          "name": "#%%\n",
          "is_executing": false
        }
      }
    },
    {
      "cell_type": "code",
      "execution_count": 26,
      "outputs": [
        {
          "name": "stdout",
          "text": [
            "tensor([2., 2., 2., 2., 2.])\n[2. 2. 2. 2. 2.]\n"
          ],
          "output_type": "stream"
        }
      ],
      "source": "a.add_(1)\nprint(a)\nprint(b)",
      "metadata": {
        "pycharm": {
          "metadata": false,
          "name": "#%%\n",
          "is_executing": false
        }
      }
    },
    {
      "cell_type": "markdown",
      "source": "### 将NumPy数组转化为Torch张量",
      "metadata": {
        "pycharm": {
          "metadata": false
        }
      }
    },
    {
      "cell_type": "code",
      "execution_count": 27,
      "outputs": [
        {
          "name": "stdout",
          "text": [
            "[2. 2. 2. 2. 2.]\ntensor([2., 2., 2., 2., 2.], dtype\u003dtorch.float64)\n"
          ],
          "output_type": "stream"
        }
      ],
      "source": "import numpy as np\na \u003d np.ones(5)\nb \u003d torch.from_numpy(a)\nnp.add(a, 1, out\u003da)\nprint(a)\nprint(b)",
      "metadata": {
        "pycharm": {
          "metadata": false,
          "name": "#%%\n",
          "is_executing": false
        }
      }
    },
    {
      "cell_type": "markdown",
      "source": "## CUDA上的张量",
      "metadata": {
        "pycharm": {
          "metadata": false
        }
      }
    },
    {
      "cell_type": "code",
      "execution_count": 28,
      "outputs": [
        {
          "name": "stdout",
          "text": [
            "tensor([-0.3372], device\u003d\u0027cuda:0\u0027)\ntensor([-0.3372], dtype\u003dtorch.float64)\n"
          ],
          "output_type": "stream"
        }
      ],
      "source": "if torch.cuda.is_available():\n    device \u003d torch.device(\"cuda\")\n    y \u003d torch.ones_like(x, device\u003ddevice)\n    x \u003d x.to(device)\n    z \u003d x + y\n    print(z)\n    print(z.to(\"cpu\", torch.double))",
      "metadata": {
        "pycharm": {
          "metadata": false,
          "name": "#%%\n",
          "is_executing": false
        }
      }
    },
    {
      "cell_type": "code",
      "execution_count": null,
      "outputs": [],
      "source": "\n",
      "metadata": {
        "pycharm": {
          "metadata": false,
          "name": "#%%\n"
        }
      }
    }
  ],
  "metadata": {
    "language_info": {
      "codemirror_mode": {
        "name": "ipython",
        "version": 2
      },
      "file_extension": ".py",
      "mimetype": "text/x-python",
      "name": "python",
      "nbconvert_exporter": "python",
      "pygments_lexer": "ipython2",
      "version": "2.7.6"
    },
    "kernelspec": {
      "name": "python3",
      "language": "python",
      "display_name": "Python 3"
    },
    "stem_cell": {
      "cell_type": "raw",
      "source": "",
      "metadata": {
        "pycharm": {
          "metadata": false
        }
      }
    }
  },
  "nbformat": 4,
  "nbformat_minor": 0
}