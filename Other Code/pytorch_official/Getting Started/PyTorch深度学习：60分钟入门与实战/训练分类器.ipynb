{
  "cells": [
    {
      "cell_type": "markdown",
      "metadata": {
        "collapsed": true,
        "pycharm": {
          "name": "#%% md\n"
        }
      },
      "source": "## 数据呢"
    },
    {
      "cell_type": "code",
      "execution_count": 25,
      "outputs": [],
      "source": "import torch\nimport torchvision\nimport torchvision.transforms as transforms\nimport torch.utils.data",
      "metadata": {
        "pycharm": {
          "metadata": false,
          "name": "#%%\n",
          "is_executing": false
        }
      }
    },
    {
      "cell_type": "code",
      "execution_count": 26,
      "outputs": [
        {
          "name": "stdout",
          "text": [
            "Files already downloaded and verified\n",
            "Files already downloaded and verified\n"
          ],
          "output_type": "stream"
        }
      ],
      "source": "transform \u003d transforms.Compose(\n    [transforms.ToTensor(),\n     transforms.Normalize((0.5, 0.5, 0.5),(0.5, 0.5, 0.5))]\n)\ntrainset \u003d torchvision.datasets.CIFAR10(root\u003d\u0027./data\u0027, train\u003dTrue, download\u003dTrue,transform\u003dtransform)\ntrainloader \u003d torch.utils.data.DataLoader(trainset, batch_size\u003d4, shuffle\u003dTrue, num_workers\u003d2)\n\ntestset \u003d torchvision.datasets.CIFAR10(root\u003d\u0027./data\u0027, train\u003dFalse, download\u003dTrue, transform\u003dtransform)\ntestloader \u003d torch.utils.data.DataLoader(testset, batch_size\u003d4, shuffle\u003dFalse, num_workers\u003d2)\n\nclasses \u003d (\u0027plane\u0027, \u0027car\u0027, \u0027bird\u0027, \u0027cat\u0027,\n           \u0027deer\u0027, \u0027dog\u0027, \u0027frog\u0027, \u0027horse\u0027, \u0027ship\u0027, \u0027truck\u0027)",
      "metadata": {
        "pycharm": {
          "metadata": false,
          "name": "#%%\n",
          "is_executing": false
        }
      }
    },
    {
      "cell_type": "code",
      "execution_count": 28,
      "outputs": [
        {
          "data": {
            "text/plain": "\u003cFigure size 432x288 with 1 Axes\u003e",
            "image/png": "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\u003d\n"
          },
          "metadata": {
            "needs_background": "light"
          },
          "output_type": "display_data"
        },
        {
          "name": "stdout",
          "text": [
            "  ship  horse   frog    dog\n"
          ],
          "output_type": "stream"
        }
      ],
      "source": "import matplotlib.pyplot as plt\nimport numpy as np\n\ndef imshow(img):\n    img \u003d img/2 + 0.5\n    npimg \u003d img.numpy()\n    plt.imshow(np.transpose(npimg, (1, 2, 0)))\n    plt.show()\n\ndataiter \u003d iter(trainloader)\nimages, labels \u003d dataiter.next()\n\nimshow(torchvision.utils.make_grid(images))\nprint(\u0027 \u0027.join(\u0027%6s\u0027 % classes[labels[j]] for j in range(4)))",
      "metadata": {
        "pycharm": {
          "metadata": false,
          "name": "#%%\n",
          "is_executing": false
        }
      }
    },
    {
      "cell_type": "markdown",
      "source": "## 定义卷积神经网络",
      "metadata": {
        "pycharm": {
          "metadata": false,
          "name": "#%% md\n"
        }
      }
    },
    {
      "cell_type": "code",
      "execution_count": 29,
      "outputs": [],
      "source": "import torch.nn as nn\nimport torch.nn.functional as F\n\n\nclass Net(nn.Module):\n    def __init__(self):\n        super(Net, self).__init__()\n        self.conv1 \u003d nn.Conv2d(3, 6, 5)\n        self.pool \u003d nn.MaxPool2d(2, 2)\n        self.conv2 \u003d nn.Conv2d(6, 16, 5)\n        self.fc1 \u003d nn.Linear(16 * 5 * 5, 120)\n        self.fc2 \u003d nn.Linear(120, 84)\n        self.fc3 \u003d nn.Linear(84, 10)\n\n    def forward(self, x):\n        x \u003d self.pool(F.relu(self.conv1(x)))\n        x \u003d self.pool(F.relu(self.conv2(x)))\n        x \u003d x.view(-1, 16 * 5 * 5)\n        x \u003d F.relu(self.fc1(x))\n        x \u003d F.relu(self.fc2(x))\n        x \u003d self.fc3(x)\n        return x\n\n\nnet \u003d Net()",
      "metadata": {
        "pycharm": {
          "metadata": false,
          "name": "#%%\n",
          "is_executing": false
        }
      }
    },
    {
      "cell_type": "markdown",
      "source": "## 定义损失函数和优化器",
      "metadata": {
        "pycharm": {
          "metadata": false
        }
      }
    },
    {
      "cell_type": "code",
      "execution_count": 30,
      "outputs": [],
      "source": "import torch.optim as optim\ncriterion \u003d nn.CrossEntropyLoss()\noptimizer \u003d optim.SGD(net.parameters(), lr\u003d0.001, momentum\u003d0.9)",
      "metadata": {
        "pycharm": {
          "metadata": false,
          "name": "#%%\n",
          "is_executing": false
        }
      }
    },
    {
      "cell_type": "markdown",
      "source": "## 训练网络",
      "metadata": {
        "pycharm": {
          "metadata": false,
          "name": "#%% md\n"
        }
      }
    },
    {
      "cell_type": "code",
      "execution_count": 31,
      "outputs": [
        {
          "name": "stdout",
          "text": [
            "cuda:0\n",
            "[1,  2000] loss: 2.163\n",
            "[1,  4000] loss: 1.850\n",
            "[1,  6000] loss: 1.682\n",
            "[1,  8000] loss: 1.584\n",
            "[1, 10000] loss: 1.553\n",
            "[1, 12000] loss: 1.473\n",
            "[2,  2000] loss: 1.425\n",
            "[2,  4000] loss: 1.388\n",
            "[2,  6000] loss: 1.349\n",
            "[2,  8000] loss: 1.311\n",
            "[2, 10000] loss: 1.292\n",
            "[2, 12000] loss: 1.284\n",
            "Finished Training\n"
          ],
          "output_type": "stream"
        }
      ],
      "source": "for epoch in range(2):\n    running_loss \u003d 0.0\n    for i, data in enumerate(trainloader, 0):\n        inputs, labels \u003d data\n        optimizer.zero_grad()\n        \n        outputs \u003d net(inputs)\n        loss \u003d criterion(outputs, labels)\n        loss.backward()\n        optimizer.step()\n        \n        running_loss +\u003d loss.item()\n        if i % 2000 \u003d\u003d 1999:\n            print(\u0027[%d, %5d] loss: %.3f\u0027 %(epoch+1, i+1, running_loss/2000))\n            running_loss \u003d 0.0\n        \nprint(\u0027Finished Training\u0027)",
      "metadata": {
        "pycharm": {
          "metadata": false,
          "name": "#%%\n",
          "is_executing": false
        }
      }
    },
    {
      "cell_type": "markdown",
      "source": "## 使用测试数据测试网络",
      "metadata": {
        "pycharm": {
          "metadata": false,
          "name": "#%% md\n"
        }
      }
    },
    {
      "cell_type": "code",
      "execution_count": 20,
      "outputs": [
        {
          "data": {
            "text/plain": "\u003cFigure size 432x288 with 1 Axes\u003e",
            "image/png": "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\u003d\n"
          },
          "metadata": {
            "needs_background": "light"
          },
          "output_type": "display_data"
        },
        {
          "name": "stdout",
          "text": [
            "GroundTruth:    cat  ship  ship plane\n"
          ],
          "output_type": "stream"
        }
      ],
      "source": "dataiter \u003d iter(testloader)\nimages, labels \u003d dataiter.next()\n\nimshow(torchvision.utils.make_grid(images))\nprint(\u0027GroundTruth: \u0027, \u0027 \u0027.join(\u0027%5s\u0027 % classes[labels[j]] for j in range(4)))",
      "metadata": {
        "pycharm": {
          "metadata": false,
          "name": "#%%\n",
          "is_executing": false
        }
      }
    },
    {
      "cell_type": "code",
      "execution_count": 21,
      "outputs": [
        {
          "name": "stdout",
          "text": [
            "Predicted:    cat  ship   car  ship\n"
          ],
          "output_type": "stream"
        }
      ],
      "source": "outputs \u003d net(images)\n_, predicted \u003d torch.max(outputs, 1)\nprint(\u0027Predicted: \u0027, \u0027 \u0027.join(\u0027%5s\u0027 % classes[predicted[j]] for j in range(4)))",
      "metadata": {
        "pycharm": {
          "metadata": false,
          "name": "#%%\n",
          "is_executing": false
        }
      }
    },
    {
      "cell_type": "code",
      "execution_count": 22,
      "outputs": [
        {
          "name": "stdout",
          "text": [
            "Accuracy of the network on the 10000 test images: 55 %\n"
          ],
          "output_type": "stream"
        }
      ],
      "source": "correct \u003d 0\ntotal \u003d 0\nwith torch.no_grad():\n    for data in testloader:\n        images, labels \u003d data\n        outputs \u003d net(images)\n        _, predicted \u003d torch.max(outputs.data, 1)\n        total +\u003d labels.size(0)\n        correct +\u003d (predicted \u003d\u003d labels).sum().item()\n\nprint(\u0027Accuracy of the network on the 10000 test images: %d %%\u0027 % (\n    100 * correct / total))",
      "metadata": {
        "pycharm": {
          "metadata": false,
          "name": "#%%\n",
          "is_executing": false
        }
      }
    },
    {
      "cell_type": "code",
      "execution_count": 23,
      "outputs": [
        {
          "name": "stdout",
          "text": [
            "Accuracy of plane : 57 %\nAccuracy of   car : 68 %\nAccuracy of  bird : 46 %\nAccuracy of   cat : 28 %\nAccuracy of  deer : 49 %\nAccuracy of   dog : 47 %\nAccuracy of  frog : 71 %\nAccuracy of horse : 52 %\nAccuracy of  ship : 71 %\nAccuracy of truck : 59 %\n"
          ],
          "output_type": "stream"
        }
      ],
      "source": "class_correct \u003d list(0. for i in range(10))\nclass_total \u003d list(0. for i in range(10))\nwith torch.no_grad():\n    for data in testloader:\n        images, labels \u003d data\n        outputs \u003d net(images)\n        _, predicted \u003d torch.max(outputs, 1)\n        c \u003d (predicted \u003d\u003d labels).squeeze()\n        for i in range(4):\n            label \u003d labels[i]\n            class_correct[label] +\u003d c[i].item()\n            class_total[label] +\u003d 1\n\n\nfor i in range(10):\n    print(\u0027Accuracy of %5s : %2d %%\u0027 % (\n        classes[i], 100 * class_correct[i] / class_total[i]))",
      "metadata": {
        "pycharm": {
          "metadata": false,
          "name": "#%%\n",
          "is_executing": false
        }
      }
    },
    {
      "cell_type": "markdown",
      "source": "## 在GPU上训练",
      "metadata": {
        "pycharm": {
          "metadata": false,
          "name": "#%% md\n"
        }
      }
    },
    {
      "cell_type": "code",
      "execution_count": 24,
      "outputs": [
        {
          "name": "stdout",
          "text": [
            "cuda:0\n"
          ],
          "output_type": "stream"
        }
      ],
      "source": "device \u003d torch.device(\"cuda:0\" if torch.cuda.is_available() else \"cpu\")\nprint(device)",
      "metadata": {
        "pycharm": {
          "metadata": false,
          "name": "#%%\n",
          "is_executing": false
        }
      }
    },
    {
      "cell_type": "code",
      "execution_count": null,
      "outputs": [],
      "source": "inputs, labels \u003d inputs.to(device), labels.to(device)\n",
      "metadata": {
        "pycharm": {
          "metadata": false,
          "name": "#%%\n"
        }
      }
    }
  ],
  "metadata": {
    "language_info": {
      "codemirror_mode": {
        "name": "ipython",
        "version": 2
      },
      "file_extension": ".py",
      "mimetype": "text/x-python",
      "name": "python",
      "nbconvert_exporter": "python",
      "pygments_lexer": "ipython2",
      "version": "2.7.6"
    },
    "kernelspec": {
      "name": "python3",
      "language": "python",
      "display_name": "Python 3"
    }
  },
  "nbformat": 4,
  "nbformat_minor": 0
}