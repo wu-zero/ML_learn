{
  "cells": [
    {
      "cell_type": "markdown",
      "metadata": {
        "collapsed": true,
        "pycharm": {
          "name": "#%% md\n"
        }
      },
      "source": "## 导入和参数"
    },
    {
      "cell_type": "code",
      "execution_count": 2,
      "outputs": [],
      "source": "import torch\nimport torch.nn as nn\nfrom torch.utils.data import Dataset, DataLoader\n\ninput_size \u003d 5\noutput_size \u003d 2\n\nbatch_size \u003d 30\ndata_size \u003d 100\n\ndevice \u003d torch.device(\"cuda:0\" if torch.cuda.is_available() else \"cpu\")",
      "metadata": {
        "pycharm": {
          "metadata": false,
          "name": "#%%\n",
          "is_executing": false
        }
      }
    },
    {
      "cell_type": "markdown",
      "source": "## 虚拟数据集",
      "metadata": {
        "pycharm": {
          "metadata": false,
          "name": "#%% md\n"
        }
      }
    },
    {
      "cell_type": "code",
      "execution_count": 3,
      "outputs": [],
      "source": "class RandomDataset(Dataset):\n    \n    def __init__(self, size, length):\n        self.len \u003d length\n        self.data \u003d torch.randn(length, size)\n    \n    def __getitem__(self, index):\n        return self.data[index]\n    \n    def __len__(self):\n        return self.len\n\nrand_loader \u003d DataLoader(dataset\u003dRandomDataset(input_size, data_size),\n                         batch_size\u003dbatch_size, shuffle\u003dTrue)",
      "metadata": {
        "pycharm": {
          "metadata": false,
          "name": "#%%\n",
          "is_executing": false
        }
      }
    },
    {
      "cell_type": "markdown",
      "source": "## 简单模型",
      "metadata": {
        "pycharm": {
          "metadata": false,
          "name": "#%% md\n"
        }
      }
    },
    {
      "cell_type": "code",
      "execution_count": 4,
      "outputs": [],
      "source": "class Model(nn.Module):\n    \n    def __init__(self, input_size, output_size):\n        super(Model, self).__init__()\n        self.fc \u003d nn.Linear(input_size, output_size)\n\n    def forward(self, input):\n        output \u003d self.fc(input)\n        print(\"\\tIn Model： input size\", input.size(),\n              \"output size\", output.size())\n\n        return output",
      "metadata": {
        "pycharm": {
          "metadata": false,
          "name": "#%%\n",
          "is_executing": false
        }
      }
    },
    {
      "cell_type": "markdown",
      "source": "## 创建一个模型和数据并行",
      "metadata": {
        "pycharm": {
          "metadata": false,
          "name": "#%% md\n"
        }
      }
    },
    {
      "cell_type": "code",
      "execution_count": 5,
      "outputs": [
        {
          "data": {
            "text/plain": "Model(\n  (fc): Linear(in_features\u003d5, out_features\u003d2, bias\u003dTrue)\n)"
          },
          "metadata": {},
          "output_type": "execute_result",
          "execution_count": 5
        }
      ],
      "source": "model \u003d Model(input_size, output_size)\nif torch.cuda.device_count() \u003e 1:\n    print(\"Let\u0027s use\", torch.cuda.device_count(), \"GPUs!\")\n    model \u003d nn.DataParallel(model)\n\nmodel.to(device)",
      "metadata": {
        "pycharm": {
          "metadata": false,
          "name": "#%%\n",
          "is_executing": false
        }
      }
    },
    {
      "cell_type": "markdown",
      "source": "## 运行模型                               ",
      "metadata": {
        "pycharm": {
          "metadata": false,
          "name": "#%% md\n"
        }
      }
    },
    {
      "cell_type": "code",
      "execution_count": 6,
      "outputs": [
        {
          "name": "stdout",
          "text": [
            "\tIn Model： input size torch.Size([30, 5]) output size torch.Size([30, 2])\nOutside: input size torch.Size([30, 5]) output_size torch.Size([30, 2])\n\tIn Model： input size torch.Size([30, 5]) output size torch.Size([30, 2])\nOutside: input size torch.Size([30, 5]) output_size torch.Size([30, 2])\n\tIn Model： input size torch.Size([30, 5]) output size torch.Size([30, 2])\nOutside: input size torch.Size([30, 5]) output_size torch.Size([30, 2])\n\tIn Model： input size torch.Size([10, 5]) output size torch.Size([10, 2])\nOutside: input size torch.Size([10, 5]) output_size torch.Size([10, 2])\n"
          ],
          "output_type": "stream"
        }
      ],
      "source": "for data in rand_loader:\n    input \u003d data.to(device)\n    output \u003d model(input)\n    print(\"Outside: input size\", input.size(),\n          \"output_size\", output.size())",
      "metadata": {
        "pycharm": {
          "metadata": false,
          "name": "#%%\n",
          "is_executing": false
        }
      }
    },
    {
      "cell_type": "code",
      "execution_count": null,
      "outputs": [],
      "source": "\n",
      "metadata": {
        "pycharm": {
          "metadata": false,
          "name": "#%%\n"
        }
      }
    }
  ],
  "metadata": {
    "language_info": {
      "codemirror_mode": {
        "name": "ipython",
        "version": 2
      },
      "file_extension": ".py",
      "mimetype": "text/x-python",
      "name": "python",
      "nbconvert_exporter": "python",
      "pygments_lexer": "ipython2",
      "version": "2.7.6"
    },
    "kernelspec": {
      "name": "python3",
      "language": "python",
      "display_name": "Python 3"
    }
  },
  "nbformat": 4,
  "nbformat_minor": 0
}